{
 "cells": [
  {
   "cell_type": "markdown",
   "metadata": {},
   "source": [
    "Latihan 4.1 Buatlah sebuah fungsi yang dapat menentukan apakah ketiga parameter memenuhi\n",
    "semua ketentuan berikut ini:\n",
    "• Ketiga parameter tersebut nilainya berbeda semua.\n",
    "• Ada kemungkinan jika diambil dua parameter dan dijumlahkan hasilnya sama dengan\n",
    "parameter lainnya (yang tersisa).\n",
    "Fungsi tersebut akan menghasilkan nilai True jika semua ketentuan tersebut dipenuhi. Jika\n",
    "tidak terpenuhi maka fungsi akan menghasilkan nilai False. Fungsi anda harus diberi nama\n",
    "cek_angka()."
   ]
  },
  {
   "cell_type": "code",
   "execution_count": 1,
   "metadata": {},
   "outputs": [
    {
     "name": "stdout",
     "output_type": "stream",
     "text": [
      "True\n",
      "False\n",
      "True\n"
     ]
    }
   ],
   "source": [
    "def cek_angka(a, b, c):\n",
    "    if a == b or a == c or b == c:\n",
    "        return False\n",
    "    if a + b == c or a + c == b or b + c == a:\n",
    "        return True\n",
    "    return False\n",
    "\n",
    "print(cek_angka(2, 3, 5))  # True, karena 2 + 3 = 5\n",
    "print(cek_angka(1, 4, 7))  # False, karena semua nilai berbeda tetapi tidak memenuhi syarat penjumlahan\n",
    "print(cek_angka(2, 4, 6))  # True, karena 2 + 4 = 6\n",
    "\n",
    "\n",
    "\n",
    "\n"
   ]
  },
  {
   "cell_type": "markdown",
   "metadata": {},
   "source": [
    "Latihan 4.2 Buatlah sebuah fungsi yang dapat menentukan apakah minimal dua dari tiga\n",
    "parameter yang diberikan memiliki digit paling kanan yang sama. Fungsi tersebut menghasilkan\n",
    "nilai True jika memenuhi dan False jika tidak memenuhi. Gunakan fungsi tersebut untuk\n",
    "mengecek beberapa test-case berikut ini:\n",
    "• Input = 30, 20, 18. Output yang diharapkan = True\n",
    "• Input = 145, 5, 100. Output yang diharapkan = True\n",
    "• Input = 71, 187, 18. Output yang diharapkan = False\n",
    "• Input = 1024, 14, 94. Output yang diharapkan = True\n",
    "• Input = 53, 8900, 658. Output yang diharapkan = False\n",
    "Ketiga bilangan tersebut diinputkan oleh pengguna, sehingga anda perlu membaca input dari\n",
    "pengguna. Fungsi anda harus diberi nama cek_digit_belakang(). "
   ]
  },
  {
   "cell_type": "code",
   "execution_count": 2,
   "metadata": {},
   "outputs": [
    {
     "name": "stdout",
     "output_type": "stream",
     "text": [
      "Input = (30, 20, 18). Output yang diharapkan = True\n",
      "Input = (145, 5, 100). Output yang diharapkan = True\n",
      "Input = (71, 187, 18). Output yang diharapkan = False\n",
      "Input = (1024, 14, 94). Output yang diharapkan = True\n",
      "Input = (53, 8900, 658). Output yang diharapkan = False\n"
     ]
    }
   ],
   "source": [
    "def cek_digit_belakang(a, b, c):\n",
    "    return len({num % 10 for num in (a, b, c)}) < 3\n",
    "\n",
    "test_cases = [(30, 20, 18), (145, 5, 100), (71, 187, 18), (1024, 14, 94), (53, 8900, 658)]\n",
    "\n",
    "for test in test_cases:\n",
    "    result = cek_digit_belakang(*test)\n",
    "    print(f\"Input = {test}. Output yang diharapkan =\", result)\n"
   ]
  },
  {
   "cell_type": "markdown",
   "metadata": {},
   "source": [
    "Latihan 4.3 Buatlah fungsi-fungsi konversi suhu menggunakan lambda function. Fungsi-fungsi\n",
    "yang harus anda implementasikan:\n",
    "• Celcius to Fahrenheit. F = (9/5) ∗C +32\n",
    "• Celcius to Reamur. R = 0.8 ∗C\n",
    "Berikan contoh penggunaannya untuk test-case berikut ini:\n",
    "• Input C = 100. Output F = 212.\n",
    "• Input C = 80. Output R = 64.\n",
    "• Input = 0. Output F = 32.\n"
   ]
  },
  {
   "cell_type": "code",
   "execution_count": 3,
   "metadata": {},
   "outputs": [
    {
     "name": "stdout",
     "output_type": "stream",
     "text": [
      "Input C = 100. Output F = 212.0\n",
      "Input C = 80. Output R = 64.0\n",
      "Input C = 0. Output F = 32.0\n"
     ]
    }
   ],
   "source": [
    "# Konversi suhu dari Celsius ke Fahrenheit dan Reamur\n",
    "C_to_F = lambda C: (9/5) * C + 32\n",
    "C_to_R = lambda C: 0.8 * C\n",
    "\n",
    "# Test-case\n",
    "print(\"Input C = 100. Output F =\", C_to_F(100))\n",
    "print(\"Input C = 80. Output R =\", C_to_R(80))\n",
    "print(\"Input C = 0. Output F =\", C_to_F(0))\n"
   ]
  }
 ],
 "metadata": {
  "kernelspec": {
   "display_name": "Python 3",
   "language": "python",
   "name": "python3"
  },
  "language_info": {
   "codemirror_mode": {
    "name": "ipython",
    "version": 3
   },
   "file_extension": ".py",
   "mimetype": "text/x-python",
   "name": "python",
   "nbconvert_exporter": "python",
   "pygments_lexer": "ipython3",
   "version": "3.12.0"
  }
 },
 "nbformat": 4,
 "nbformat_minor": 2
}
